{
 "cells": [
  {
   "cell_type": "code",
   "execution_count": 1,
   "metadata": {},
   "outputs": [
    {
     "name": "stdout",
     "output_type": "stream",
     "text": [
      "*****\n",
      "*****\n",
      "*****\n",
      "\n"
     ]
    }
   ],
   "source": [
    "# 직사각형 별찍기\n",
    "a,b = map(int,input().strip().split(' '))\n",
    "print((\"*\"*a+\"\\n\")*b)"
   ]
  },
  {
   "cell_type": "code",
   "execution_count": 2,
   "metadata": {},
   "outputs": [
    {
     "data": {
      "text/plain": [
       "[2, 4, 6, 8, 10]"
      ]
     },
     "execution_count": 2,
     "metadata": {},
     "output_type": "execute_result"
    }
   ],
   "source": [
    "# X만큼 간격이 있는 n개의 숫자\n",
    "def solution(x,n):\n",
    "    answer = []\n",
    "    for i in range(1,n+1):\n",
    "        answer.append(x*i)\n",
    "    return answer\n",
    "solution(2,5)"
   ]
  },
  {
   "cell_type": "code",
   "execution_count": 3,
   "metadata": {},
   "outputs": [
    {
     "data": {
      "text/plain": [
       "'*******4444'"
      ]
     },
     "execution_count": 3,
     "metadata": {},
     "output_type": "execute_result"
    }
   ],
   "source": [
    "# 핸드폰 번호 가리기\n",
    "def solution(phone_number):\n",
    "    answer = ''\n",
    "    answer = len(phone_number[:-4])*\"*\" + phone_number[-4:]\n",
    "    return answer\n",
    "solution(\"01033334444\")"
   ]
  },
  {
   "cell_type": "code",
   "execution_count": 4,
   "metadata": {},
   "outputs": [
    {
     "data": {
      "text/plain": [
       "2.5"
      ]
     },
     "execution_count": 4,
     "metadata": {},
     "output_type": "execute_result"
    }
   ],
   "source": [
    "# 평균 구하기\n",
    "def solution(arr):\n",
    "    answer = 0\n",
    "    answer = sum(arr)/len(arr)\n",
    "    return answer\n",
    "solution([1,2,3,4])"
   ]
  },
  {
   "cell_type": "code",
   "execution_count": 5,
   "metadata": {},
   "outputs": [
    {
     "data": {
      "text/plain": [
       "True"
      ]
     },
     "execution_count": 5,
     "metadata": {},
     "output_type": "execute_result"
    }
   ],
   "source": [
    "# 하샤드 수\n",
    "def solution(x):\n",
    "    total = 0\n",
    "    for i in range(len(str(x))):\n",
    "        total += int(str(x)[i])\n",
    "    if x%total==0:\n",
    "        answer = True\n",
    "    else:\n",
    "        answer = False\n",
    "    return answer\n",
    "\n",
    "solution(10)"
   ]
  },
  {
   "cell_type": "code",
   "execution_count": 7,
   "metadata": {},
   "outputs": [
    {
     "data": {
      "text/plain": [
       "[3, 12]"
      ]
     },
     "execution_count": 7,
     "metadata": {},
     "output_type": "execute_result"
    }
   ],
   "source": [
    "# 최대공약수와 최소공배수\n",
    "def solution(n, m):\n",
    "    answer = []\n",
    "    #최대공약수\n",
    "    for i in range(min(n,m),0,-1):\n",
    "        if n%i==0 and m%i==0:\n",
    "            answer.append(i)\n",
    "            break\n",
    "    #최소공배수\n",
    "    for j in range(max(n,m),(n*m)+1):\n",
    "        if j%n==0 and j%m==0:\n",
    "            answer.append(j)\n",
    "            break\n",
    "    \n",
    "    return answer\n",
    "solution(3, 12)"
   ]
  }
 ],
 "metadata": {
  "interpreter": {
   "hash": "e25a8f1cc9da09f6637f21d435d330de47a073bb93554458ce0853a31ef9747f"
  },
  "kernelspec": {
   "display_name": "Python 3.10.4 64-bit",
   "language": "python",
   "name": "python3"
  },
  "language_info": {
   "codemirror_mode": {
    "name": "ipython",
    "version": 3
   },
   "file_extension": ".py",
   "mimetype": "text/x-python",
   "name": "python",
   "nbconvert_exporter": "python",
   "pygments_lexer": "ipython3",
   "version": "3.10.4"
  },
  "orig_nbformat": 4
 },
 "nbformat": 4,
 "nbformat_minor": 2
}
