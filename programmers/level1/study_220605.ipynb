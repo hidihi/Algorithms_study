{
 "cells": [
  {
   "cell_type": "code",
   "execution_count": null,
   "metadata": {},
   "outputs": [],
   "source": [
    "# 신고 결과 받기\n",
    "def solution(id_list, report, k):\n",
    "    answer = []\n",
    "    \n",
    "    return answer\n",
    "\n",
    "[\"muzi\", \"frodo\", \"apeach\", \"neo\"]\n",
    "\n",
    "[\"muzi frodo\",\"apeach frodo\",\"frodo neo\",\"muzi neo\",\"apeach muzi\"]"
   ]
  },
  {
   "cell_type": "code",
   "execution_count": 4,
   "metadata": {},
   "outputs": [
    {
     "name": "stdout",
     "output_type": "stream",
     "text": [
      "*****\n",
      "*****\n",
      "*****\n",
      "\n"
     ]
    }
   ],
   "source": [
    "# 직사각형 별 찍기\n",
    "a,b = map(int,input().strip().split(' '))\n",
    "print((\"*\"*a+\"\\n\")*b)"
   ]
  },
  {
   "cell_type": "code",
   "execution_count": 14,
   "metadata": {},
   "outputs": [
    {
     "data": {
      "text/plain": [
       "[2, 4, 6, 8, 10]"
      ]
     },
     "execution_count": 14,
     "metadata": {},
     "output_type": "execute_result"
    }
   ],
   "source": [
    "#x만큼 간격이 있는 n개의 숫자\n",
    "def solution(x,n):\n",
    "    answer = []\n",
    "    for i in range(1,n+1):\n",
    "        answer.append(x*i)\n",
    "    return answer\n",
    "solution(2,5)"
   ]
  },
  {
   "cell_type": "code",
   "execution_count": 17,
   "metadata": {},
   "outputs": [
    {
     "data": {
      "text/plain": [
       "'*****8888'"
      ]
     },
     "execution_count": 17,
     "metadata": {},
     "output_type": "execute_result"
    }
   ],
   "source": [
    "# 핸드폰 번호 가리기\n",
    "def solution(phone_number):\n",
    "    answer = ''\n",
    "    answer = len(phone_number[:-4])*\"*\" + phone_number[-4:]\n",
    "    return answer\n",
    "solution(\"027778888\")"
   ]
  },
  {
   "cell_type": "code",
   "execution_count": 22,
   "metadata": {},
   "outputs": [
    {
     "data": {
      "text/plain": [
       "5.0"
      ]
     },
     "execution_count": 22,
     "metadata": {},
     "output_type": "execute_result"
    }
   ],
   "source": [
    "# 평균 구하기\n",
    "def solution(arr):\n",
    "    answer = 0\n",
    "    answer = sum(arr)/len(arr)\n",
    "    return answer\n",
    "solution([5,5])"
   ]
  },
  {
   "cell_type": "code",
   "execution_count": 28,
   "metadata": {},
   "outputs": [
    {
     "data": {
      "text/plain": [
       "[1, 10]"
      ]
     },
     "execution_count": 28,
     "metadata": {},
     "output_type": "execute_result"
    }
   ],
   "source": [
    "# 최대공약수와 최소공배수\n",
    "def solution(n, m):\n",
    "    answer = []\n",
    "    #최대공약수\n",
    "    for i in range(min(n,m),0,-1):\n",
    "        if n%i==0 and m%i==0:\n",
    "            answer.append(i)\n",
    "            break\n",
    "    #최소공배수\n",
    "    for j in range(max(n,m),(n*m)+1):\n",
    "        if j%n==0 and j%m==0:\n",
    "            answer.append(j)\n",
    "            break\n",
    "    \n",
    "    return answer\n",
    "\n",
    "solution(2,5)"
   ]
  },
  {
   "cell_type": "code",
   "execution_count": 37,
   "metadata": {},
   "outputs": [
    {
     "data": {
      "text/plain": [
       "2"
      ]
     },
     "execution_count": 37,
     "metadata": {},
     "output_type": "execute_result"
    }
   ],
   "source": [
    "# 자릿수 더하기\n",
    "def solution(n):\n",
    "    n = str(n)\n",
    "    answer = 0\n",
    "    for i in range(len(n)):\n",
    "        answer += int(n[i])\n",
    "    return answer\n",
    "\n",
    "solution(1001)"
   ]
  },
  {
   "cell_type": "code",
   "execution_count": 53,
   "metadata": {},
   "outputs": [
    {
     "data": {
      "text/plain": [
       "'Even'"
      ]
     },
     "execution_count": 53,
     "metadata": {},
     "output_type": "execute_result"
    }
   ],
   "source": [
    "# 짝수와 홀수\n",
    "def solution(num):\n",
    "    answer = ''\n",
    "    if num%2==1:\n",
    "        answer = \"Odd\"\n",
    "    else:\n",
    "        answer = \"Even\"\n",
    "    return answer\n",
    "solution(4)"
   ]
  },
  {
   "cell_type": "code",
   "execution_count": 69,
   "metadata": {},
   "outputs": [
    {
     "data": {
      "text/plain": [
       "[4, 3, 2]"
      ]
     },
     "execution_count": 69,
     "metadata": {},
     "output_type": "execute_result"
    }
   ],
   "source": [
    "# 제일 작은 수 제거하기\n",
    "def solution(arr):\n",
    "    answer = []\n",
    "    if len(arr) <= 1:\n",
    "        answer.append(-1)\n",
    "    else:\n",
    "        arr.remove(min(arr))\n",
    "        answer = arr\n",
    "    return answer\n",
    "solution([4,3,2,1])\n"
   ]
  },
  {
   "cell_type": "code",
   "execution_count": 1,
   "metadata": {},
   "outputs": [
    {
     "data": {
      "text/plain": [
       "87211"
      ]
     },
     "execution_count": 1,
     "metadata": {},
     "output_type": "execute_result"
    }
   ],
   "source": [
    "# 정수 내림차순으로 배치하기\n",
    "def solution(n):\n",
    "    answer = 0\n",
    "    n = sorted(str(n),reverse=True)\n",
    "    answer = int(''.join(n))\n",
    "    return answer\n",
    "solution(11872)"
   ]
  },
  {
   "cell_type": "code",
   "execution_count": null,
   "metadata": {},
   "outputs": [],
   "source": [
    "#행렬의 덧셈\n",
    "# def solution(arr1, arr2):\n",
    "#     if len(arr1)\n",
    "#     answer = [[]]\n",
    "#     return answ"
   ]
  },
  {
   "cell_type": "code",
   "execution_count": null,
   "metadata": {},
   "outputs": [],
   "source": [
    "#하샤드 수\n",
    "def solution(x):\n",
    "    total = 0\n",
    "    for i in range(len(str(x))):\n",
    "        total += int(str(x)[i])\n",
    "    if x%total==0:\n",
    "        answer = True\n",
    "    else:\n",
    "        answer = False\n",
    "    return answer\n",
    "solution(11)\n"
   ]
  },
  {
   "cell_type": "code",
   "execution_count": null,
   "metadata": {},
   "outputs": [
    {
     "ename": "",
     "evalue": "",
     "output_type": "error",
     "traceback": [
      "\u001b[1;31mCanceled future for execute_request message before replies were done"
     ]
    },
    {
     "ename": "",
     "evalue": "",
     "output_type": "error",
     "traceback": [
      "\u001b[1;31mThe Kernel crashed while executing code in the the current cell or a previous cell. Please review the code in the cell(s) to identify a possible cause of the failure. Click <a href='https://aka.ms/vscodeJupyterKernelCrash'>here</a> for more info. View Jupyter <a href='command:jupyter.viewOutput'>log</a> for further details."
     ]
    }
   ],
   "source": [
    "#콜라츠 추측\n",
    "def solution(num):\n",
    "    answer = 0  \n",
    "    if num%2==0:\n",
    "        b = num/2\n",
    "        solution(b)\n",
    "        answer += 1\n",
    "        if num==1:\n",
    "            return answer      \n",
    "    else:\n",
    "        solution(num*3+1)\n",
    "        answer += 1\n",
    "        if num==1:\n",
    "            return answer\n",
    "            \n",
    "solution(16)"
   ]
  },
  {
   "cell_type": "code",
   "execution_count": 2,
   "metadata": {},
   "outputs": [
    {
     "data": {
      "text/plain": [
       "144.0"
      ]
     },
     "execution_count": 2,
     "metadata": {},
     "output_type": "execute_result"
    }
   ],
   "source": [
    "# 정수의 제곱근 판별\n",
    "def solution(n):\n",
    "    answer = 0\n",
    "    #양의 정수의 제곱이라면\n",
    "    b = n**0.5\n",
    "    if b%1==0:\n",
    "        answer = (b+1)**2\n",
    "    #제곱이 아니라면\n",
    "    else:\n",
    "        answer = -1\n",
    "    return answer\n",
    "solution(121)"
   ]
  },
  {
   "cell_type": "code",
   "execution_count": 16,
   "metadata": {},
   "outputs": [
    {
     "data": {
      "text/plain": [
       "[5, 4, 3, 2, 1]"
      ]
     },
     "execution_count": 16,
     "metadata": {},
     "output_type": "execute_result"
    }
   ],
   "source": [
    "# 자연수 뒤집어 배열로 만들기\n",
    "def solution(n):\n",
    "    answer = []\n",
    "    answer = list(map(int,str(n)[::-1]))\n",
    "    return answer\n",
    "solution(12345)"
   ]
  },
  {
   "cell_type": "code",
   "execution_count": 43,
   "metadata": {},
   "outputs": [
    {
     "name": "stdout",
     "output_type": "stream",
     "text": [
      "['Do', 'it', 'your', 'Python']\n",
      "['DoDo', 'itIt', 'yourYoUr', 'PythonPyThOn']\n"
     ]
    }
   ],
   "source": [
    "# 이상한 문자 만들기\n",
    "def solution(s):\n",
    "    answer = []\n",
    "    \n",
    "    for i in range(len(a)):\n",
    "        if i%2==0:\n",
    "            answer += s[i].upper()\n",
    "        else:\n",
    "            answer += s[i].lower()\n",
    "        \n",
    "    return \" \".join(answer)\n",
    "s = 'Do it your Python'\n",
    "answer = s.split()\n",
    "print(answer)\n",
    "for i in range(len(answer)):\n",
    "    for j in range(len(answer[i])):\n",
    "        if j%2==0:\n",
    "            answer[i] += answer[i][j].upper()\n",
    "        else:\n",
    "            answer[i] += answer[i][j].lower()\n",
    "print(answer)\n",
    "        "
   ]
  },
  {
   "cell_type": "code",
   "execution_count": 44,
   "metadata": {},
   "outputs": [
    {
     "name": "stdout",
     "output_type": "stream",
     "text": [
      "1\n",
      "2\n",
      "3\n",
      "4\n",
      "6\n",
      "12\n"
     ]
    },
    {
     "data": {
      "text/plain": [
       "28"
      ]
     },
     "execution_count": 44,
     "metadata": {},
     "output_type": "execute_result"
    }
   ],
   "source": [
    "# 약수의 합\n",
    "def solution(n):\n",
    "    answer = 0\n",
    "    for i in range(1,n+1):\n",
    "        if n%i==0:\n",
    "            print(i)\n",
    "            answer += i\n",
    "    return answer\n",
    "solution(12)"
   ]
  },
  {
   "cell_type": "code",
   "execution_count": 47,
   "metadata": {},
   "outputs": [
    {
     "data": {
      "text/plain": [
       "-1234"
      ]
     },
     "execution_count": 47,
     "metadata": {},
     "output_type": "execute_result"
    }
   ],
   "source": [
    "#문자열을 정수로 바꾸기\n",
    "def solution(s):\n",
    "    answer = 0\n",
    "    answer  = int(s)\n",
    "    return answer\n",
    "solution(\"-1234\")"
   ]
  },
  {
   "cell_type": "code",
   "execution_count": 49,
   "metadata": {},
   "outputs": [
    {
     "data": {
      "text/plain": [
       "'수박수'"
      ]
     },
     "execution_count": 49,
     "metadata": {},
     "output_type": "execute_result"
    }
   ],
   "source": [
    "#수박수박수박수박수박수?\n",
    "def solution(n):\n",
    "    answer = ''\n",
    "    for i in range(n):\n",
    "        if i%2==0:\n",
    "            answer += '수'\n",
    "        else:\n",
    "            answer += '박'\n",
    "    return answer\n",
    "solution(3)"
   ]
  },
  {
   "cell_type": "code",
   "execution_count": 53,
   "metadata": {},
   "outputs": [
    {
     "data": {
      "text/plain": [
       "'김서방은 1에 있다'"
      ]
     },
     "execution_count": 53,
     "metadata": {},
     "output_type": "execute_result"
    }
   ],
   "source": [
    "# 서울에서 김서방 찾기\n",
    "def solution(seoul):\n",
    "    answer = ''\n",
    "    for i in range(len(seoul)):\n",
    "        if seoul[i]=='Kim':\n",
    "            answer = \"김서방은 \"+str(i)+\"에 있다\"\n",
    "    return answer\n",
    "solution([\"Jane\", \"Kim\"])"
   ]
  },
  {
   "cell_type": "code",
   "execution_count": 57,
   "metadata": {},
   "outputs": [
    {
     "data": {
      "text/plain": [
       "5"
      ]
     },
     "execution_count": 57,
     "metadata": {},
     "output_type": "execute_result"
    }
   ],
   "source": [
    "# 두 정수의 합\n",
    "def solution(a, b):\n",
    "    answer = 0\n",
    "    if b > a :\n",
    "        for i in range(a,b+1):\n",
    "            answer += i\n",
    "    elif a==b:\n",
    "        answer = a\n",
    "    else:\n",
    "        for i in range(b,a+1):\n",
    "            answer += i\n",
    "    return answer\n",
    "\n",
    "solution(3,2)"
   ]
  },
  {
   "cell_type": "code",
   "execution_count": 62,
   "metadata": {},
   "outputs": [
    {
     "data": {
      "text/plain": [
       "str"
      ]
     },
     "execution_count": 62,
     "metadata": {},
     "output_type": "execute_result"
    }
   ],
   "source": [
    "int(s)%1==0"
   ]
  },
  {
   "cell_type": "code",
   "execution_count": 72,
   "metadata": {},
   "outputs": [
    {
     "data": {
      "text/plain": [
       "[-1]"
      ]
     },
     "execution_count": 72,
     "metadata": {},
     "output_type": "execute_result"
    }
   ],
   "source": [
    "# 나누어 떨어지는 숫자 배열\n",
    "def solution(arr, divisor):\n",
    "    answer = []\n",
    "    for i in range(len(arr)):\n",
    "        if arr[i]%divisor==0:\n",
    "            answer.append(arr[i])\n",
    "    answer = sorted(answer)\n",
    "    if len(answer)==0:\n",
    "        answer.append(-1)\n",
    "    return answer\n",
    "solution([3,2,6],10)"
   ]
  },
  {
   "cell_type": "code",
   "execution_count": 85,
   "metadata": {},
   "outputs": [
    {
     "data": {
      "text/plain": [
       "2"
      ]
     },
     "execution_count": 85,
     "metadata": {},
     "output_type": "execute_result"
    }
   ],
   "source": [
    "# 음양 더하기\n",
    "def solution(absolutes, signs):\n",
    "    answer = 123456789\n",
    "    for i in range(len(absolutes)):\n",
    "        if signs[i]==True:\n",
    "            absolutes[i] = absolutes[i] * 1\n",
    "        else:\n",
    "            absolutes[i] = absolutes[i] * -1\n",
    "    answer = sum(absolutes)\n",
    "    return answer\n",
    "solution([1,2,3],[True,False,True])"
   ]
  },
  {
   "cell_type": "code",
   "execution_count": 109,
   "metadata": {},
   "outputs": [
    {
     "data": {
      "text/plain": [
       "'bc'"
      ]
     },
     "execution_count": 109,
     "metadata": {},
     "output_type": "execute_result"
    }
   ],
   "source": [
    "# 가운데 글자 가져오기\n",
    "def solution(s):\n",
    "    answer = ''\n",
    "    if len(s)%2==0:\n",
    "        answer = s[(len(s)//2)-1:(len(s)//2)+1]\n",
    "    else:\n",
    "        answer = s[len(s)//2]\n",
    "    return answer\n",
    "solution('abcd')"
   ]
  },
  {
   "cell_type": "code",
   "execution_count": 108,
   "metadata": {},
   "outputs": [
    {
     "data": {
      "text/plain": [
       "'cd'"
      ]
     },
     "execution_count": 108,
     "metadata": {},
     "output_type": "execute_result"
    }
   ],
   "source": [
    "s = 'abcdse'\n",
    "s[(len(s)//2)-1:(len(s)//2)+1]\n"
   ]
  },
  {
   "cell_type": "code",
   "execution_count": 15,
   "metadata": {},
   "outputs": [
    {
     "data": {
      "text/plain": [
       "[2, 4, 5, 7, 9]"
      ]
     },
     "execution_count": 15,
     "metadata": {},
     "output_type": "execute_result"
    }
   ],
   "source": [
    "# 두 개 뽑아서 더하기\n",
    "def solution(numbers):\n",
    "    answer = []\n",
    "    for i in numbers:\n",
    "        for j in range(i,len(numbers)):\n",
    "            answer.append(numbers[j]+i)\n",
    "    answer.remove(0)\n",
    "    return list(set(answer))\n",
    "solution([5,0,2,7])"
   ]
  },
  {
   "cell_type": "code",
   "execution_count": 111,
   "metadata": {},
   "outputs": [
    {
     "data": {
      "text/plain": [
       "[1, 2, 3, 4]"
      ]
     },
     "execution_count": 111,
     "metadata": {},
     "output_type": "execute_result"
    }
   ],
   "source": [
    "num=[2,1,3,4,1]\n",
    "\n",
    "list(set(num))\n",
    "for i in range(len(num)):\n",
    "    num.append(num[i]+num)"
   ]
  },
  {
   "cell_type": "code",
   "execution_count": 11,
   "metadata": {},
   "outputs": [],
   "source": [
    "# 문자열 내림차순으로 배치하기\n",
    "\n",
    "def solution(s):\n",
    "    answer = ''\n",
    "    answer = ''.join(sorted(s,reverse=True))\n",
    "    return answer"
   ]
  },
  {
   "cell_type": "code",
   "execution_count": 21,
   "metadata": {},
   "outputs": [
    {
     "data": {
      "text/plain": [
       "4"
      ]
     },
     "execution_count": 21,
     "metadata": {},
     "output_type": "execute_result"
    }
   ],
   "source": [
    "# 소수 찾기\n",
    "## 효율성 테스트 합격 X\n",
    "def solution(n):\n",
    "    answer = 0\n",
    "    for i in range(1,n+1):\n",
    "        count = 0\n",
    "        for j in range(1,i+1):\n",
    "            if i%j==0:\n",
    "                count += 1\n",
    "        if count == 2:\n",
    "            answer += 1\n",
    "    return answer\n",
    "solution(10)  "
   ]
  },
  {
   "cell_type": "code",
   "execution_count": 41,
   "metadata": {},
   "outputs": [
    {
     "name": "stdout",
     "output_type": "stream",
     "text": [
      "[2, 3, 5]\n"
     ]
    },
    {
     "data": {
      "text/plain": [
       "3"
      ]
     },
     "execution_count": 41,
     "metadata": {},
     "output_type": "execute_result"
    }
   ],
   "source": [
    "# 소수 구하기(에라토스테너스의 체)\n",
    "def solution(n):\n",
    "    answer = 0\n",
    "    a = [True]*\n",
    "    primes=[]\n",
    "    for i in range(2,n+1):\n",
    "        if a[i]:\n",
    "            primes.append(i)\n",
    "            for j in range(2*i, n+1, i):\n",
    "                a[j] = False\n",
    "            answer += 1\n",
    "    print(primes)\n",
    "    return answer\n",
    "solution(5)  "
   ]
  },
  {
   "cell_type": "code",
   "execution_count": 105,
   "metadata": {},
   "outputs": [
    {
     "data": {
      "text/plain": [
       "3"
      ]
     },
     "execution_count": 105,
     "metadata": {},
     "output_type": "execute_result"
    }
   ],
   "source": [
    "# 소수찾기(에라토스테네스 코드로 해결 완료)\n",
    "def solution(n):\n",
    "    answer = 0\n",
    "    a = [True]*(n+1)\n",
    "    for i in range(2,n+1):\n",
    "        if a[i]==True:\n",
    "            for j in range(2*i, n+1, i):\n",
    "                a[j] = False\n",
    "            answer += 1\n",
    "    return answer\n",
    "solution(5)"
   ]
  },
  {
   "cell_type": "code",
   "execution_count": 104,
   "metadata": {},
   "outputs": [
    {
     "data": {
      "text/plain": [
       "False"
      ]
     },
     "execution_count": 104,
     "metadata": {},
     "output_type": "execute_result"
    }
   ],
   "source": [
    "# 문자열 다루기 기본\n",
    "def solution(s):\n",
    "    answer = True\n",
    "    if len(s) in (4,6):\n",
    "        try:\n",
    "            if int(s)==True:\n",
    "                answer = True\n",
    "        except:\n",
    "            answer = False\n",
    "    else:\n",
    "        answer = False\n",
    "    return answer\n",
    "solution('a1234')"
   ]
  },
  {
   "cell_type": "code",
   "execution_count": 143,
   "metadata": {},
   "outputs": [
    {
     "data": {
      "text/plain": [
       "False"
      ]
     },
     "execution_count": 143,
     "metadata": {},
     "output_type": "execute_result"
    }
   ],
   "source": [
    "#문자열 내 p와 y의 개수\n",
    "def solution(s):\n",
    "    answer = True\n",
    "    s =list(s.upper())\n",
    "    p_count = 0\n",
    "    y_count = 0\n",
    "    for i in range(len(s)):\n",
    "        if s[i] =='P':\n",
    "            p_count += 1\n",
    "        elif s[i] =='Y':\n",
    "            y_count += 1\n",
    "    if p_count == y_count:\n",
    "        answer = True\n",
    "    else:\n",
    "        answer = False\n",
    "    return answer\n",
    "solution(\"pPooyyY\")"
   ]
  },
  {
   "cell_type": "code",
   "execution_count": 163,
   "metadata": {},
   "outputs": [
    {
     "data": {
      "text/plain": [
       "'{'"
      ]
     },
     "execution_count": 163,
     "metadata": {},
     "output_type": "execute_result"
    }
   ],
   "source": [
    "# 시저 암호\n",
    "def solution(s, n):\n",
    "    answer = ''\n",
    "    ss = []\n",
    "    for i in range(len(s)):\n",
    "        ss.append(chr(ord(s[i])+n))\n",
    "        if s[i]==\" \":\n",
    "            ss.append(' ')\n",
    "    answer = \"\".join(ss)\n",
    "    return answer\n",
    "solution(\"z\",1)\n"
   ]
  },
  {
   "cell_type": "code",
   "execution_count": 16,
   "metadata": {},
   "outputs": [
    {
     "data": {
      "text/plain": [
       "'TUE'"
      ]
     },
     "execution_count": 16,
     "metadata": {},
     "output_type": "execute_result"
    }
   ],
   "source": [
    "#2016년\n",
    "import datetime as dt\n",
    "def solution(a, b):\n",
    "    answer = ''\n",
    "    x = dt.datetime(2016, a, b)\n",
    "    answer = x.strftime(\"%a\").upper()\n",
    "    return answer\n",
    "solution(5,24)"
   ]
  },
  {
   "cell_type": "code",
   "execution_count": 17,
   "metadata": {},
   "outputs": [
    {
     "data": {
      "text/plain": [
       "[1, 1, 3, 3, 0, 1, 1]"
      ]
     },
     "execution_count": 17,
     "metadata": {},
     "output_type": "execute_result"
    }
   ],
   "source": [
    "# 같은 숫자는 싫어\n",
    "def solution(arr):\n",
    "    answer = []\n",
    "    for i in arr:\n",
    "        if i!=i+1:\n",
    "            answer.append(i)\n",
    "    return answer\n",
    "solution([1,1,3,3,0,1,1])\n"
   ]
  },
  {
   "cell_type": "code",
   "execution_count": 20,
   "metadata": {},
   "outputs": [
    {
     "data": {
      "text/plain": [
       "[1, 1, 3, 3, 0, 1, 1]"
      ]
     },
     "execution_count": 20,
     "metadata": {},
     "output_type": "execute_result"
    }
   ],
   "source": [
    "arr = [1,1,3,3,0,1,1]\n",
    "answer = []\n",
    "for i in arr:\n",
    "    answer.append(i)\n",
    "    for j in answer:\n",
    "        if j == i+1:\n",
    "            pass\n",
    "answer"
   ]
  }
 ],
 "metadata": {
  "interpreter": {
   "hash": "e25a8f1cc9da09f6637f21d435d330de47a073bb93554458ce0853a31ef9747f"
  },
  "kernelspec": {
   "display_name": "Python 3.10.4 64-bit",
   "language": "python",
   "name": "python3"
  },
  "language_info": {
   "codemirror_mode": {
    "name": "ipython",
    "version": 3
   },
   "file_extension": ".py",
   "mimetype": "text/x-python",
   "name": "python",
   "nbconvert_exporter": "python",
   "pygments_lexer": "ipython3",
   "version": "3.10.4"
  },
  "orig_nbformat": 4
 },
 "nbformat": 4,
 "nbformat_minor": 2
}
